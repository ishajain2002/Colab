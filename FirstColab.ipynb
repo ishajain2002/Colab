{
  "nbformat": 4,
  "nbformat_minor": 0,
  "metadata": {
    "colab": {
      "provenance": [],
      "authorship_tag": "ABX9TyM23xIi8JFF4o+55Pd/1BAH",
      "include_colab_link": true
    },
    "kernelspec": {
      "name": "python3",
      "display_name": "Python 3"
    },
    "language_info": {
      "name": "python"
    }
  },
  "cells": [
    {
      "cell_type": "markdown",
      "metadata": {
        "id": "view-in-github",
        "colab_type": "text"
      },
      "source": [
        "<a href=\"https://colab.research.google.com/github/ishajain2002/Colab/blob/main/FirstColab.ipynb\" target=\"_parent\"><img src=\"https://colab.research.google.com/assets/colab-badge.svg\" alt=\"Open In Colab\"/></a>"
      ]
    },
    {
      "cell_type": "code",
      "execution_count": 1,
      "metadata": {
        "id": "kGRyfCczxzwO",
        "colab": {
          "base_uri": "https://localhost:8080/"
        },
        "outputId": "1e3151b8-2673-405e-af80-4d0cfd42d5b8"
      },
      "outputs": [
        {
          "output_type": "stream",
          "name": "stdout",
          "text": [
            "Sample Python Program...\n"
          ]
        }
      ],
      "source": [
        "print(\"Sample Python Program...\")"
      ]
    },
    {
      "cell_type": "markdown",
      "source": [
        "sample prgm to sum 2 numbers in python\n"
      ],
      "metadata": {
        "id": "bHGVKZAfTfU9"
      }
    },
    {
      "cell_type": "code",
      "source": [
        "a=10\n",
        "b=20\n",
        "c=a+b\n",
        "print(\"sum=\",c)"
      ],
      "metadata": {
        "colab": {
          "base_uri": "https://localhost:8080/"
        },
        "id": "mhCeYIn6S12D",
        "outputId": "f2be4131-56bb-4980-a2c4-4c8da89e52d3"
      },
      "execution_count": 2,
      "outputs": [
        {
          "output_type": "stream",
          "name": "stdout",
          "text": [
            "sum= 30\n"
          ]
        }
      ]
    },
    {
      "cell_type": "markdown",
      "source": [
        "Pandas in Notebook\n"
      ],
      "metadata": {
        "id": "sLgSYMWsV1V4"
      }
    },
    {
      "cell_type": "code",
      "source": [
        "import pandas as pd\n",
        "mylist = [50, 100, 150, 200, 250]\n",
        "res = pd.Series(mylist)\n",
        "print(\"series = \\n \", res)"
      ],
      "metadata": {
        "colab": {
          "base_uri": "https://localhost:8080/"
        },
        "id": "WTHYis8NVQfT",
        "outputId": "aca95c01-5971-4a17-fbbd-f58b2663a9b4"
      },
      "execution_count": 5,
      "outputs": [
        {
          "output_type": "stream",
          "name": "stdout",
          "text": [
            "series = \n",
            "  0     50\n",
            "1    100\n",
            "2    150\n",
            "3    200\n",
            "4    250\n",
            "dtype: int64\n"
          ]
        }
      ]
    },
    {
      "cell_type": "markdown",
      "source": [
        "Numpy in Notebook\n"
      ],
      "metadata": {
        "id": "2GrHYAePWT__"
      }
    },
    {
      "cell_type": "code",
      "source": [
        "import numpy as np\n",
        "arr = np.array((1,2,3))\n",
        "print(\"Array= \",arr)"
      ],
      "metadata": {
        "colab": {
          "base_uri": "https://localhost:8080/"
        },
        "id": "Rl1zuB8HWXpC",
        "outputId": "0b91718e-6e67-4c9f-9c62-4cd53e04803c"
      },
      "execution_count": 7,
      "outputs": [
        {
          "output_type": "stream",
          "name": "stdout",
          "text": [
            "Array=  [1 2 3]\n"
          ]
        }
      ]
    },
    {
      "cell_type": "markdown",
      "source": [
        "Matplotlib in Notebook\n"
      ],
      "metadata": {
        "id": "pNm2Qk3OWvnd"
      }
    },
    {
      "cell_type": "code",
      "source": [
        "import matplotlib.pyplot as plt\n",
        "import numpy as np\n",
        "xpts= ([0,4])\n",
        "ypts= ([0, 100])\n",
        "plt.plot(xpts, ypts)\n",
        "plt.show()"
      ],
      "metadata": {
        "colab": {
          "base_uri": "https://localhost:8080/",
          "height": 265
        },
        "id": "aqYDw8dGWytd",
        "outputId": "27610c59-0790-45e0-b271-a294a237d4b2"
      },
      "execution_count": 8,
      "outputs": [
        {
          "output_type": "display_data",
          "data": {
            "text/plain": [
              "<Figure size 432x288 with 1 Axes>"
            ],
            "image/png": "[encoded data removed]"
          },
          "metadata": {
            "needs_background": "light"
          }
        }
      ]
    }
  ]
}